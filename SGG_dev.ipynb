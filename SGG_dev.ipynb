{
  "cells": [
    {
      "cell_type": "markdown",
      "metadata": {
        "id": "ySpPFKgt4FyY"
      },
      "source": [
        "Install Dependencies"
      ]
    },
    {
      "cell_type": "code",
      "execution_count": null,
      "metadata": {
        "colab": {
          "base_uri": "https://localhost:8080/"
        },
        "id": "PIlDi2CMWIMW",
        "outputId": "01a98f4e-8d99-4ffb-9550-cf4d5a1747d5"
      },
      "outputs": [
        {
          "output_type": "stream",
          "name": "stdout",
          "text": [
            "\r0% [Working]\r            \rGet:1 http://security.ubuntu.com/ubuntu bionic-security InRelease [88.7 kB]\n",
            "\r0% [Connecting to archive.ubuntu.com (91.189.91.38)] [1 InRelease 14.2 kB/88.7 \r                                                                               \rGet:2 http://ppa.launchpad.net/c2d4u.team/c2d4u4.0+/ubuntu bionic InRelease [15.9 kB]\n",
            "\r0% [Connecting to archive.ubuntu.com (91.189.91.38)] [1 InRelease 22.9 kB/88.7 \r0% [Connecting to archive.ubuntu.com (91.189.91.38)] [1 InRelease 88.7 kB/88.7 \r                                                                               \rGet:3 https://cloud.r-project.org/bin/linux/ubuntu bionic-cran40/ InRelease [3,626 B]\n",
            "\r                                                                               \rGet:4 https://developer.download.nvidia.com/compute/cuda/repos/ubuntu1804/x86_64  InRelease [1,581 B]\n",
            "\r0% [Connecting to archive.ubuntu.com (91.189.91.38)] [Waiting for headers] [Wai\r0% [2 InRelease gpgv 15.9 kB] [Connecting to archive.ubuntu.com (91.189.91.38)]\r                                                                               \rHit:5 http://ppa.launchpad.net/cran/libgit2/ubuntu bionic InRelease\n",
            "\r0% [2 InRelease gpgv 15.9 kB] [Connecting to archive.ubuntu.com (91.189.91.38)]\r                                                                               \rGet:6 http://ppa.launchpad.net/deadsnakes/ppa/ubuntu bionic InRelease [15.9 kB]\n",
            "Get:7 http://ppa.launchpad.net/graphics-drivers/ppa/ubuntu bionic InRelease [21.3 kB]\n",
            "Hit:8 http://archive.ubuntu.com/ubuntu bionic InRelease\n",
            "Get:9 http://archive.ubuntu.com/ubuntu bionic-updates InRelease [88.7 kB]\n",
            "Get:10 http://ppa.launchpad.net/c2d4u.team/c2d4u4.0+/ubuntu bionic/main Sources [1,992 kB]\n",
            "Get:11 http://ppa.launchpad.net/c2d4u.team/c2d4u4.0+/ubuntu bionic/main amd64 Packages [1,021 kB]\n",
            "Get:12 http://security.ubuntu.com/ubuntu bionic-security/restricted amd64 Packages [982 kB]\n",
            "Get:13 http://security.ubuntu.com/ubuntu bionic-security/main amd64 Packages [2,830 kB]\n",
            "Get:14 http://archive.ubuntu.com/ubuntu bionic-backports InRelease [74.6 kB]\n",
            "Get:15 http://security.ubuntu.com/ubuntu bionic-security/universe amd64 Packages [1,515 kB]\n",
            "Ign:16 https://developer.download.nvidia.com/compute/machine-learning/repos/ubuntu1804/x86_64  InRelease\n",
            "Get:17 https://developer.download.nvidia.com/compute/cuda/repos/ubuntu1804/x86_64  Packages [806 kB]\n",
            "Hit:18 https://developer.download.nvidia.com/compute/machine-learning/repos/ubuntu1804/x86_64  Release\n",
            "Get:19 http://ppa.launchpad.net/deadsnakes/ppa/ubuntu bionic/main amd64 Packages [45.3 kB]\n",
            "Get:20 http://ppa.launchpad.net/graphics-drivers/ppa/ubuntu bionic/main amd64 Packages [47.7 kB]\n",
            "Get:21 http://archive.ubuntu.com/ubuntu bionic-updates/main amd64 Packages [3,262 kB]\n",
            "Get:23 http://archive.ubuntu.com/ubuntu bionic-updates/restricted amd64 Packages [1,015 kB]\n",
            "Get:24 http://archive.ubuntu.com/ubuntu bionic-updates/universe amd64 Packages [2,290 kB]\n",
            "Fetched 16.1 MB in 3s (6,126 kB/s)\n",
            "Reading package lists... Done\n",
            "Looking in indexes: https://pypi.org/simple, https://us-python.pkg.dev/colab-wheels/public/simple/\n",
            "Requirement already satisfied: pip in /usr/local/lib/python3.7/dist-packages (21.1.3)\n",
            "Collecting pip\n",
            "  Downloading pip-22.1.2-py3-none-any.whl (2.1 MB)\n",
            "\u001b[K     |████████████████████████████████| 2.1 MB 16.4 MB/s \n",
            "\u001b[?25hInstalling collected packages: pip\n",
            "  Attempting uninstall: pip\n",
            "    Found existing installation: pip 21.1.3\n",
            "    Uninstalling pip-21.1.3:\n",
            "      Successfully uninstalled pip-21.1.3\n",
            "Successfully installed pip-22.1.2\n",
            "Reading package lists... Done\n",
            "Building dependency tree       \n",
            "Reading state information... Done\n",
            "E: Unable to locate package linux-headers-5.4.188\n",
            "E: Couldn't find any package by glob 'linux-headers-5.4.188'\n",
            "E: Couldn't find any package by regex 'linux-headers-5.4.188'\n",
            "Reading package lists... Done\n"
          ]
        }
      ],
      "source": [
        "! apt-get update\n",
        "! pip install --upgrade pip\n",
        "\n",
        "! apt-get install linux-headers-$(uname -r)\n",
        "! apt-get -y install cmake"
      ]
    },
    {
      "cell_type": "code",
      "execution_count": null,
      "metadata": {
        "id": "B0yDtQhPYN_r"
      },
      "outputs": [],
      "source": [
        "!gcc --version"
      ]
    },
    {
      "cell_type": "code",
      "execution_count": null,
      "metadata": {
        "id": "rVJuybBEYSTx"
      },
      "outputs": [],
      "source": [
        "!nvcc --version"
      ]
    },
    {
      "cell_type": "code",
      "execution_count": null,
      "metadata": {
        "id": "dlYs0yYlbUIa"
      },
      "outputs": [],
      "source": [
        "! pip install ipython\n",
        "! pip install scipy\n",
        "! pip install h5py"
      ]
    },
    {
      "cell_type": "code",
      "execution_count": null,
      "metadata": {
        "id": "dVgf6YNobn3G"
      },
      "outputs": [],
      "source": [
        "! pip install ninja yacs cython matplotlib tqdm opencv-python overrides tensorboard"
      ]
    },
    {
      "cell_type": "code",
      "execution_count": null,
      "metadata": {
        "id": "mrtGRfSO7k2z"
      },
      "outputs": [],
      "source": [
        "! pip install torch==1.10.0+cu113 torchvision==0.11.0+cu113 -f https://download.pytorch.org/whl/torch_stable.html"
      ]
    },
    {
      "cell_type": "code",
      "execution_count": null,
      "metadata": {
        "id": "TT6-ZbsLgvtM"
      },
      "outputs": [],
      "source": [
        "import torch\n",
        "torch.cuda.is_available()\n",
        "torch.__version__"
      ]
    },
    {
      "cell_type": "markdown",
      "metadata": {
        "id": "fZU-Dl444NpN"
      },
      "source": [
        "install cocoapi"
      ]
    },
    {
      "cell_type": "code",
      "execution_count": null,
      "metadata": {
        "colab": {
          "background_save": true
        },
        "id": "mgVjBEz6Y952"
      },
      "outputs": [],
      "source": [
        "! git clone https://github.com/cocodataset/cocoapi.git\n",
        "! cd cocoapi/PythonAPI; python setup.py build_ext install"
      ]
    },
    {
      "cell_type": "markdown",
      "metadata": {
        "id": "pNwun7Dz4QMt"
      },
      "source": [
        "install apex"
      ]
    },
    {
      "cell_type": "code",
      "execution_count": null,
      "metadata": {
        "colab": {
          "background_save": true
        },
        "id": "9-yOlH0d7g-A"
      },
      "outputs": [],
      "source": [
        "! wget --quiet \"https://raw.githubusercontent.com/pytorch/pytorch/master/torch/utils/collect_env.py\"\n",
        "! python collect_env.py"
      ]
    },
    {
      "cell_type": "code",
      "execution_count": null,
      "metadata": {
        "id": "tjQ6rgt67cjO"
      },
      "outputs": [],
      "source": [
        "# install cuda 11.3 if version is wrong\n",
        "# since nvidia is updating its gpg key, use the new keyring package and remove duplicate .list files\n",
        "\n",
        "! sudo apt-key del 7fa2af80\n",
        "! wget https://developer.download.nvidia.com/compute/cuda/repos/ubuntu1804/x86_64/cuda-keyring_1.0-1_all.deb\n",
        "! sudo dpkg -i cuda-keyring_1.0-1_all.deb\n",
        "! mv /etc/apt/sources.list.d/cuda.list /etc/apt/sources.list.d/cuda.list.bak\n",
        "! apt-get update\n",
        "! apt-get install cuda-11.3"
      ]
    },
    {
      "cell_type": "code",
      "execution_count": null,
      "metadata": {
        "id": "7oGxMVwIY8jt"
      },
      "outputs": [],
      "source": [
        "! git clone https://github.com/AndersonALAC/apex.git\n",
        "! cd apex ; python setup.py install --cuda_ext --cpp_ext"
      ]
    },
    {
      "cell_type": "markdown",
      "metadata": {
        "id": "Vs_HyDVC4SIr"
      },
      "source": [
        "install scene graph benchmark"
      ]
    },
    {
      "cell_type": "code",
      "execution_count": null,
      "metadata": {
        "id": "7eEHkYfT8gyf"
      },
      "outputs": [],
      "source": [
        "! rm -rf scene_graph"
      ]
    },
    {
      "cell_type": "code",
      "execution_count": null,
      "metadata": {
        "id": "92ZPsWi5oWJ4"
      },
      "outputs": [],
      "source": [
        "! git clone https://github.com/AndersonALAC/scene_graph.git"
      ]
    },
    {
      "cell_type": "code",
      "execution_count": null,
      "metadata": {
        "id": "iwpV0qV_0a_y"
      },
      "outputs": [],
      "source": [
        "! cd scene_graph; git pull origin master\n",
        "! cd scene_graph; git checkout master"
      ]
    },
    {
      "cell_type": "code",
      "execution_count": null,
      "metadata": {
        "id": "aHPOJ7Bno3iL"
      },
      "outputs": [],
      "source": [
        "! cd scene_graph; python setup.py build develop"
      ]
    },
    {
      "cell_type": "markdown",
      "metadata": {
        "id": "7Y9zFpas4tAw"
      },
      "source": [
        "link datasets"
      ]
    },
    {
      "cell_type": "code",
      "execution_count": null,
      "metadata": {
        "id": "GcRjPynb2tSj"
      },
      "outputs": [],
      "source": [
        "# ! wget https://cs.stanford.edu/people/rak248/VG_100K_2/images.zip\n",
        "# ! wget https://cs.stanford.edu/people/rak248/VG_100K_2/images2.zip\n",
        "\n",
        "! cp /content/drive/MyDrive/datasets/vg/images.zip /content/images.zip\n",
        "! cp /content/drive/MyDrive/datasets/vg/images2.zip /content/images2.zip"
      ]
    },
    {
      "cell_type": "code",
      "execution_count": null,
      "metadata": {
        "id": "cdUOETrLYm3D"
      },
      "outputs": [],
      "source": [
        "! unzip /content/images.zip\n",
        "! unzip /content/images2.zip\n",
        "! mv -v /content/VG_100K_2/* /content/VG_100K/\n",
        "! mv /content/VG_100K/ /content/scene_graph/datasets/vg/VG_100K/\n",
        "! rm /content/VG_100K_2/"
      ]
    },
    {
      "cell_type": "code",
      "execution_count": null,
      "metadata": {
        "id": "Wa1eGBPR0EX0"
      },
      "outputs": [],
      "source": [
        "# soft link to save checkpoints to drive\n",
        "! mkdir /content/scene_graph/datasets/vg/detector_model/\n",
        "! cp -R /content/drive/MyDrive/checkpoints/pretrained_faster_rcnn/ /content/scene_graph/datasets/vg/detector_model/pretrained_faster_rcnn/\n",
        "! cp /content/drive/MyDrive/datasets/vg/VG-SGG-with-attri.h5 /content/scene_graph/datasets/vg/VG-SGG-with-attri.h5\n",
        "! ln -s /content/drive/MyDrive/checkpoints /content/checkpoints"
      ]
    },
    {
      "cell_type": "markdown",
      "metadata": {
        "id": "aBh-4-NO4W6C"
      },
      "source": [
        "run model training"
      ]
    },
    {
      "cell_type": "code",
      "execution_count": null,
      "metadata": {
        "id": "wQ6l6PH4ZBG8"
      },
      "outputs": [],
      "source": [
        "! cd scene_graph; git pull origin master\n",
        "! cd scene_graph; git checkout master"
      ]
    },
    {
      "cell_type": "code",
      "execution_count": null,
      "metadata": {
        "id": "td0RDoZ5mex3"
      },
      "outputs": [],
      "source": [
        " # sha-dlfe\n",
        "#  ! cd scene_graph; CUDA_VISIBLE_DEVICES=0 python -m torch.distributed.launch --master_port $RANDOM --nproc_per_node=1 tools/relation_train_net.py --config-file \"configs/SHA_GCL_e2e_relation_X_101_32_8_FPN_1x.yaml\" GLOBAL_SETTING.DATASET_CHOICE 'VG' GLOBAL_SETTING.RELATION_PREDICTOR 'TransLikePredictor' GLOBAL_SETTING.BASIC_ENCODER 'Hybrid-Attention' GLOBAL_SETTING.GCL_SETTING.GROUP_SPLIT_MODE 'divide4' GLOBAL_SETTING.GCL_SETTING.KNOWLEDGE_TRANSFER_MODE 'KL_logit_TopDown' MODEL.ROI_RELATION_HEAD.USE_GT_BOX False MODEL.ROI_RELATION_HEAD.USE_GT_OBJECT_LABEL False SOLVER.IMS_PER_BATCH 8 TEST.IMS_PER_BATCH 1 DTYPE \"float16\" SOLVER.MAX_ITER 24000 SOLVER.VAL_PERIOD 2000 SOLVER.CHECKPOINT_PERIOD 2000 GLOVE_DIR /content/glove OUTPUT_DIR /content/checkpoints/SHA_DLFE_SGDet_2 MODEL.BALANCED_NORM True"
      ]
    },
    {
      "cell_type": "code",
      "execution_count": null,
      "metadata": {
        "cellView": "code",
        "id": "htQAKuxGrQ_H"
      },
      "outputs": [],
      "source": [
        "# motif\n",
        "# ! cd scene_graph; CUDA_VISIBLE_DEVICES=0 python -m torch.distributed.launch --master_port $RANDOM --nproc_per_node=1 tools/relation_train_net.py --config-file \"configs/e2e_relation_X_101_32_8_FPN_1x.yaml\" MODEL.ROI_RELATION_HEAD.USE_GT_BOX False MODEL.ROI_RELATION_HEAD.USE_GT_OBJECT_LABEL False MODEL.ROI_RELATION_HEAD.PREDICTOR MotifPredictor SOLVER.IMS_PER_BATCH 8 TEST.IMS_PER_BATCH 1 DTYPE \"float16\" SOLVER.MAX_ITER 24000 SOLVER.VAL_PERIOD 2000 SOLVER.CHECKPOINT_PERIOD 2000 GLOVE_DIR /content/glove MODEL.PRETRAINED_DETECTOR_CKPT /content/checkpoints/pretrained_faster_rcnn/model_final.pth OUTPUT_DIR /content/checkpoints/Motif_SGDet_2"
      ]
    },
    {
      "cell_type": "code",
      "execution_count": null,
      "metadata": {
        "id": "HTRNWK595ozB"
      },
      "outputs": [],
      "source": [
        "# vctree\n",
        "! cd scene_graph; CUDA_VISIBLE_DEVICES=0 python -m torch.distributed.launch --master_port 10025 --nproc_per_node=1 tools/relation_train_net.py --config-file \"configs/e2e_relation_X_101_32_8_FPN_1x.yaml\" MODEL.ROI_RELATION_HEAD.USE_GT_BOX False MODEL.ROI_RELATION_HEAD.USE_GT_OBJECT_LABEL False MODEL.ROI_RELATION_HEAD.PREDICTOR VCTreePredictor SOLVER.IMS_PER_BATCH 8 TEST.IMS_PER_BATCH 1 DTYPE \"float16\" SOLVER.MAX_ITER 24000 SOLVER.VAL_PERIOD 2000 SOLVER.CHECKPOINT_PERIOD 2000 GLOVE_DIR /content/glove MODEL.PRETRAINED_DETECTOR_CKPT /content/checkpoints/pretrained_faster_rcnn/model_final.pth OUTPUT_DIR /content/checkpoints/VCTREE_SGDet_2"
      ]
    }
  ],
  "metadata": {
    "accelerator": "GPU",
    "colab": {
      "background_execution": "on",
      "collapsed_sections": [],
      "machine_shape": "hm",
      "name": "SGG dev.ipynb",
      "provenance": []
    },
    "kernelspec": {
      "display_name": "Python 3",
      "name": "python3"
    },
    "language_info": {
      "name": "python"
    }
  },
  "nbformat": 4,
  "nbformat_minor": 0
}